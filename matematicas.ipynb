{
 "cells": [
  {
   "cell_type": "code",
   "execution_count": 1,
   "metadata": {},
   "outputs": [],
   "source": [
    "import pandas as pd\n",
    "import numpy as np\n"
   ]
  },
  {
   "cell_type": "code",
   "execution_count": 77,
   "metadata": {},
   "outputs": [
    {
     "data": {
      "text/html": [
       "<div>\n",
       "<style scoped>\n",
       "    .dataframe tbody tr th:only-of-type {\n",
       "        vertical-align: middle;\n",
       "    }\n",
       "\n",
       "    .dataframe tbody tr th {\n",
       "        vertical-align: top;\n",
       "    }\n",
       "\n",
       "    .dataframe thead th {\n",
       "        text-align: right;\n",
       "    }\n",
       "</style>\n",
       "<table border=\"1\" class=\"dataframe\">\n",
       "  <thead>\n",
       "    <tr style=\"text-align: right;\">\n",
       "      <th></th>\n",
       "      <th>Index</th>\n",
       "      <th>8 Backcandles</th>\n",
       "      <th>15 Backcandles</th>\n",
       "      <th>30 Backcandles</th>\n",
       "      <th>60 Backcandles</th>\n",
       "      <th>180 Backcandles</th>\n",
       "      <th>Actual Price</th>\n",
       "    </tr>\n",
       "  </thead>\n",
       "  <tbody>\n",
       "    <tr>\n",
       "      <th>509</th>\n",
       "      <td>509.0</td>\n",
       "      <td>2035.38</td>\n",
       "      <td>2095.80</td>\n",
       "      <td>2038.65</td>\n",
       "      <td>NaN</td>\n",
       "      <td>NaN</td>\n",
       "      <td>2089.03</td>\n",
       "    </tr>\n",
       "    <tr>\n",
       "      <th>510</th>\n",
       "      <td>510.0</td>\n",
       "      <td>2033.72</td>\n",
       "      <td>2105.61</td>\n",
       "      <td>NaN</td>\n",
       "      <td>NaN</td>\n",
       "      <td>NaN</td>\n",
       "      <td>2135.95</td>\n",
       "    </tr>\n",
       "    <tr>\n",
       "      <th>511</th>\n",
       "      <td>511.0</td>\n",
       "      <td>2040.14</td>\n",
       "      <td>2091.70</td>\n",
       "      <td>NaN</td>\n",
       "      <td>NaN</td>\n",
       "      <td>NaN</td>\n",
       "      <td>2135.70</td>\n",
       "    </tr>\n",
       "    <tr>\n",
       "      <th>512</th>\n",
       "      <td>512.0</td>\n",
       "      <td>2034.75</td>\n",
       "      <td>2118.16</td>\n",
       "      <td>NaN</td>\n",
       "      <td>NaN</td>\n",
       "      <td>NaN</td>\n",
       "      <td>2151.31</td>\n",
       "    </tr>\n",
       "    <tr>\n",
       "      <th>513</th>\n",
       "      <td>513.0</td>\n",
       "      <td>2047.18</td>\n",
       "      <td>NaN</td>\n",
       "      <td>NaN</td>\n",
       "      <td>NaN</td>\n",
       "      <td>NaN</td>\n",
       "      <td>NaN</td>\n",
       "    </tr>\n",
       "  </tbody>\n",
       "</table>\n",
       "</div>"
      ],
      "text/plain": [
       "     Index  8 Backcandles  15 Backcandles  30 Backcandles  60 Backcandles  \\\n",
       "509  509.0        2035.38         2095.80         2038.65             NaN   \n",
       "510  510.0        2033.72         2105.61             NaN             NaN   \n",
       "511  511.0        2040.14         2091.70             NaN             NaN   \n",
       "512  512.0        2034.75         2118.16             NaN             NaN   \n",
       "513  513.0        2047.18             NaN             NaN             NaN   \n",
       "\n",
       "     180 Backcandles  Actual Price  \n",
       "509              NaN       2089.03  \n",
       "510              NaN       2135.95  \n",
       "511              NaN       2135.70  \n",
       "512              NaN       2151.31  \n",
       "513              NaN           NaN  "
      ]
     },
     "execution_count": 77,
     "metadata": {},
     "output_type": "execute_result"
    }
   ],
   "source": [
    "dataframe15 = pd.read_csv('15.csv')\n",
    "dataframe15 = dataframe15.replace(',', '', regex=True)\n",
    "dataframe15= dataframe15.astype(float)\n",
    "dataframe15.head()\n",
    "dataframe15.tail()\n"
   ]
  },
  {
   "cell_type": "code",
   "execution_count": 66,
   "metadata": {},
   "outputs": [
    {
     "name": "stdout",
     "output_type": "stream",
     "text": [
      "0.950970789204901\n"
     ]
    }
   ],
   "source": [
    "correlation = dataframe15['8 Backcandles'].corr(dataframe15['Actual Price'])\n",
    "print(correlation)"
   ]
  },
  {
   "cell_type": "code",
   "execution_count": 30,
   "metadata": {},
   "outputs": [
    {
     "name": "stdout",
     "output_type": "stream",
     "text": [
      "0.8348973781059148\n"
     ]
    }
   ],
   "source": [
    "\n",
    "\n",
    "correlation = dataframe15['15 Backcandles'].corr(dataframe15['Actual Price'])\n",
    "print(correlation)\n"
   ]
  },
  {
   "cell_type": "code",
   "execution_count": 31,
   "metadata": {},
   "outputs": [
    {
     "name": "stdout",
     "output_type": "stream",
     "text": [
      "0.9653903417083581\n"
     ]
    }
   ],
   "source": [
    "\n",
    "\n",
    "correlation = dataframe15['30 Backcandles'].corr(dataframe15['Actual Price'])\n",
    "print(correlation)"
   ]
  },
  {
   "cell_type": "code",
   "execution_count": 32,
   "metadata": {},
   "outputs": [
    {
     "name": "stdout",
     "output_type": "stream",
     "text": [
      "0.799500424766782\n"
     ]
    }
   ],
   "source": [
    "\n",
    "\n",
    "correlation = dataframe15['60 Backcandles'].corr(dataframe15['Actual Price'])\n",
    "print(correlation)"
   ]
  },
  {
   "cell_type": "code",
   "execution_count": 33,
   "metadata": {},
   "outputs": [
    {
     "name": "stdout",
     "output_type": "stream",
     "text": [
      "0.5507923455149325\n"
     ]
    }
   ],
   "source": [
    "\n",
    "\n",
    "correlation = dataframe15['180 Backcandles'].corr(dataframe15['Actual Price'])\n",
    "print(correlation)"
   ]
  },
  {
   "cell_type": "code",
   "execution_count": 36,
   "metadata": {},
   "outputs": [
    {
     "data": {
      "text/html": [
       "<div>\n",
       "<style scoped>\n",
       "    .dataframe tbody tr th:only-of-type {\n",
       "        vertical-align: middle;\n",
       "    }\n",
       "\n",
       "    .dataframe tbody tr th {\n",
       "        vertical-align: top;\n",
       "    }\n",
       "\n",
       "    .dataframe thead th {\n",
       "        text-align: right;\n",
       "    }\n",
       "</style>\n",
       "<table border=\"1\" class=\"dataframe\">\n",
       "  <thead>\n",
       "    <tr style=\"text-align: right;\">\n",
       "      <th></th>\n",
       "      <th>Index</th>\n",
       "      <th>8 Backcandles</th>\n",
       "      <th>15 Backcandles</th>\n",
       "      <th>30 Backcandles</th>\n",
       "      <th>60 Backcandles</th>\n",
       "      <th>180 Backcandles</th>\n",
       "      <th>Actual Price</th>\n",
       "    </tr>\n",
       "  </thead>\n",
       "  <tbody>\n",
       "    <tr>\n",
       "      <th>0</th>\n",
       "      <td>0.0</td>\n",
       "      <td>2075.27</td>\n",
       "      <td>2070.61</td>\n",
       "      <td>2081.47</td>\n",
       "      <td>2089.10</td>\n",
       "      <td>2174.18</td>\n",
       "      <td>2111.63</td>\n",
       "    </tr>\n",
       "    <tr>\n",
       "      <th>1</th>\n",
       "      <td>1.0</td>\n",
       "      <td>2078.86</td>\n",
       "      <td>2076.77</td>\n",
       "      <td>2084.93</td>\n",
       "      <td>2107.11</td>\n",
       "      <td>2181.47</td>\n",
       "      <td>2105.45</td>\n",
       "    </tr>\n",
       "    <tr>\n",
       "      <th>2</th>\n",
       "      <td>2.0</td>\n",
       "      <td>2086.02</td>\n",
       "      <td>2089.45</td>\n",
       "      <td>2092.31</td>\n",
       "      <td>2097.12</td>\n",
       "      <td>2182.83</td>\n",
       "      <td>2109.72</td>\n",
       "    </tr>\n",
       "    <tr>\n",
       "      <th>3</th>\n",
       "      <td>3.0</td>\n",
       "      <td>2099.18</td>\n",
       "      <td>2085.55</td>\n",
       "      <td>2066.55</td>\n",
       "      <td>2098.47</td>\n",
       "      <td>2176.60</td>\n",
       "      <td>2120.87</td>\n",
       "    </tr>\n",
       "    <tr>\n",
       "      <th>4</th>\n",
       "      <td>4.0</td>\n",
       "      <td>2094.90</td>\n",
       "      <td>2089.86</td>\n",
       "      <td>2068.86</td>\n",
       "      <td>2102.92</td>\n",
       "      <td>2162.43</td>\n",
       "      <td>2089.72</td>\n",
       "    </tr>\n",
       "  </tbody>\n",
       "</table>\n",
       "</div>"
      ],
      "text/plain": [
       "   Index  8 Backcandles  15 Backcandles  30 Backcandles  60 Backcandles  \\\n",
       "0    0.0        2075.27         2070.61         2081.47         2089.10   \n",
       "1    1.0        2078.86         2076.77         2084.93         2107.11   \n",
       "2    2.0        2086.02         2089.45         2092.31         2097.12   \n",
       "3    3.0        2099.18         2085.55         2066.55         2098.47   \n",
       "4    4.0        2094.90         2089.86         2068.86         2102.92   \n",
       "\n",
       "   180 Backcandles  Actual Price  \n",
       "0          2174.18       2111.63  \n",
       "1          2181.47       2105.45  \n",
       "2          2182.83       2109.72  \n",
       "3          2176.60       2120.87  \n",
       "4          2162.43       2089.72  "
      ]
     },
     "execution_count": 36,
     "metadata": {},
     "output_type": "execute_result"
    }
   ],
   "source": [
    "dataframe30 = pd.read_csv('30.csv')\n",
    "dataframe30 = dataframe30.replace(',', '', regex=True)\n",
    "dataframe30= dataframe30.astype(float)\n",
    "dataframe30.head()\n"
   ]
  },
  {
   "cell_type": "code",
   "execution_count": 35,
   "metadata": {},
   "outputs": [
    {
     "name": "stdout",
     "output_type": "stream",
     "text": [
      "0.9578690452389753\n"
     ]
    }
   ],
   "source": [
    "correlation = dataframe30['8 Backcandles'].corr(dataframe30['Actual Price'])\n",
    "print(correlation)"
   ]
  },
  {
   "cell_type": "code",
   "execution_count": 38,
   "metadata": {},
   "outputs": [
    {
     "name": "stdout",
     "output_type": "stream",
     "text": [
      "0.9707196980581306\n"
     ]
    }
   ],
   "source": [
    "correlation = dataframe30['15 Backcandles'].corr(dataframe30['Actual Price'])\n",
    "print(correlation)"
   ]
  },
  {
   "cell_type": "code",
   "execution_count": 39,
   "metadata": {},
   "outputs": [
    {
     "name": "stdout",
     "output_type": "stream",
     "text": [
      "0.9879445757572481\n"
     ]
    }
   ],
   "source": [
    "correlation = dataframe30['30 Backcandles'].corr(dataframe30['Actual Price'])\n",
    "print(correlation)"
   ]
  },
  {
   "cell_type": "code",
   "execution_count": 40,
   "metadata": {},
   "outputs": [
    {
     "name": "stdout",
     "output_type": "stream",
     "text": [
      "0.759361702842895\n"
     ]
    }
   ],
   "source": [
    "correlation = dataframe30['60 Backcandles'].corr(dataframe30['Actual Price'])\n",
    "print(correlation)"
   ]
  },
  {
   "cell_type": "code",
   "execution_count": 41,
   "metadata": {},
   "outputs": [
    {
     "name": "stdout",
     "output_type": "stream",
     "text": [
      "0.4657636206689555\n"
     ]
    }
   ],
   "source": [
    "correlation = dataframe30['180 Backcandles'].corr(dataframe30['Actual Price'])\n",
    "print(correlation)"
   ]
  },
  {
   "cell_type": "code",
   "execution_count": 46,
   "metadata": {},
   "outputs": [
    {
     "data": {
      "text/html": [
       "<div>\n",
       "<style scoped>\n",
       "    .dataframe tbody tr th:only-of-type {\n",
       "        vertical-align: middle;\n",
       "    }\n",
       "\n",
       "    .dataframe tbody tr th {\n",
       "        vertical-align: top;\n",
       "    }\n",
       "\n",
       "    .dataframe thead th {\n",
       "        text-align: right;\n",
       "    }\n",
       "</style>\n",
       "<table border=\"1\" class=\"dataframe\">\n",
       "  <thead>\n",
       "    <tr style=\"text-align: right;\">\n",
       "      <th></th>\n",
       "      <th>Index</th>\n",
       "      <th>8 Backcandles</th>\n",
       "      <th>15 Backcandles</th>\n",
       "      <th>30 Backcandles</th>\n",
       "      <th>60 Backcandles</th>\n",
       "      <th>180 Backcandles</th>\n",
       "      <th>Actual Price</th>\n",
       "    </tr>\n",
       "  </thead>\n",
       "  <tbody>\n",
       "    <tr>\n",
       "      <th>0</th>\n",
       "      <td>0.0</td>\n",
       "      <td>2052.52</td>\n",
       "      <td>2053.21</td>\n",
       "      <td>2118.23</td>\n",
       "      <td>2064.55</td>\n",
       "      <td>2143.45</td>\n",
       "      <td>2111.63</td>\n",
       "    </tr>\n",
       "    <tr>\n",
       "      <th>1</th>\n",
       "      <td>1.0</td>\n",
       "      <td>2054.86</td>\n",
       "      <td>2059.83</td>\n",
       "      <td>2122.98</td>\n",
       "      <td>2079.79</td>\n",
       "      <td>2158.12</td>\n",
       "      <td>2105.45</td>\n",
       "    </tr>\n",
       "    <tr>\n",
       "      <th>2</th>\n",
       "      <td>2.0</td>\n",
       "      <td>2060.83</td>\n",
       "      <td>2072.50</td>\n",
       "      <td>2132.67</td>\n",
       "      <td>2069.91</td>\n",
       "      <td>2163.79</td>\n",
       "      <td>2109.72</td>\n",
       "    </tr>\n",
       "    <tr>\n",
       "      <th>3</th>\n",
       "      <td>3.0</td>\n",
       "      <td>2073.04</td>\n",
       "      <td>2068.52</td>\n",
       "      <td>2093.17</td>\n",
       "      <td>2070.53</td>\n",
       "      <td>2164.17</td>\n",
       "      <td>2120.87</td>\n",
       "    </tr>\n",
       "    <tr>\n",
       "      <th>4</th>\n",
       "      <td>4.0</td>\n",
       "      <td>2070.06</td>\n",
       "      <td>2072.88</td>\n",
       "      <td>2105.61</td>\n",
       "      <td>2074.17</td>\n",
       "      <td>2153.49</td>\n",
       "      <td>2089.72</td>\n",
       "    </tr>\n",
       "  </tbody>\n",
       "</table>\n",
       "</div>"
      ],
      "text/plain": [
       "   Index  8 Backcandles  15 Backcandles  30 Backcandles  60 Backcandles  \\\n",
       "0    0.0        2052.52         2053.21         2118.23         2064.55   \n",
       "1    1.0        2054.86         2059.83         2122.98         2079.79   \n",
       "2    2.0        2060.83         2072.50         2132.67         2069.91   \n",
       "3    3.0        2073.04         2068.52         2093.17         2070.53   \n",
       "4    4.0        2070.06         2072.88         2105.61         2074.17   \n",
       "\n",
       "   180 Backcandles  Actual Price  \n",
       "0          2143.45       2111.63  \n",
       "1          2158.12       2105.45  \n",
       "2          2163.79       2109.72  \n",
       "3          2164.17       2120.87  \n",
       "4          2153.49       2089.72  "
      ]
     },
     "execution_count": 46,
     "metadata": {},
     "output_type": "execute_result"
    }
   ],
   "source": [
    "dataframe60 = pd.read_csv('60.csv')\n",
    "dataframe60 = dataframe60.replace(',', '', regex=True)\n",
    "dataframe60 = dataframe60.replace(']', '', regex=True)\n",
    "dataframe60= dataframe60.astype(float)\n",
    "dataframe60.head()"
   ]
  },
  {
   "cell_type": "code",
   "execution_count": 47,
   "metadata": {},
   "outputs": [
    {
     "name": "stdout",
     "output_type": "stream",
     "text": [
      "0.9568527674275412\n"
     ]
    }
   ],
   "source": [
    "correlation = dataframe60['8 Backcandles'].corr(dataframe60['Actual Price'])\n",
    "print(correlation)"
   ]
  },
  {
   "cell_type": "code",
   "execution_count": 48,
   "metadata": {},
   "outputs": [
    {
     "name": "stdout",
     "output_type": "stream",
     "text": [
      "0.9692345793270652\n"
     ]
    }
   ],
   "source": [
    "correlation = dataframe60['15 Backcandles'].corr(dataframe60['Actual Price'])\n",
    "print(correlation)"
   ]
  },
  {
   "cell_type": "code",
   "execution_count": 49,
   "metadata": {},
   "outputs": [
    {
     "name": "stdout",
     "output_type": "stream",
     "text": [
      "0.9890372678346414\n"
     ]
    }
   ],
   "source": [
    "correlation = dataframe60['30 Backcandles'].corr(dataframe60['Actual Price'])\n",
    "print(correlation)"
   ]
  },
  {
   "cell_type": "code",
   "execution_count": 50,
   "metadata": {},
   "outputs": [
    {
     "name": "stdout",
     "output_type": "stream",
     "text": [
      "0.4831194664706242\n"
     ]
    }
   ],
   "source": [
    "correlation = dataframe60['60 Backcandles'].corr(dataframe60['Actual Price'])\n",
    "print(correlation)"
   ]
  },
  {
   "cell_type": "code",
   "execution_count": 51,
   "metadata": {},
   "outputs": [
    {
     "name": "stdout",
     "output_type": "stream",
     "text": [
      "0.4033167564900794\n"
     ]
    }
   ],
   "source": [
    "correlation = dataframe60['180 Backcandles'].corr(dataframe60['Actual Price'])\n",
    "print(correlation)"
   ]
  },
  {
   "cell_type": "code",
   "execution_count": 53,
   "metadata": {},
   "outputs": [
    {
     "data": {
      "text/html": [
       "<div>\n",
       "<style scoped>\n",
       "    .dataframe tbody tr th:only-of-type {\n",
       "        vertical-align: middle;\n",
       "    }\n",
       "\n",
       "    .dataframe tbody tr th {\n",
       "        vertical-align: top;\n",
       "    }\n",
       "\n",
       "    .dataframe thead th {\n",
       "        text-align: right;\n",
       "    }\n",
       "</style>\n",
       "<table border=\"1\" class=\"dataframe\">\n",
       "  <thead>\n",
       "    <tr style=\"text-align: right;\">\n",
       "      <th></th>\n",
       "      <th>Index</th>\n",
       "      <th>8 Backcandles</th>\n",
       "      <th>15 Backcandles</th>\n",
       "      <th>30 Backcandles</th>\n",
       "      <th>60 Backcandles</th>\n",
       "      <th>180 Backcandles</th>\n",
       "      <th>Actual Price</th>\n",
       "    </tr>\n",
       "  </thead>\n",
       "  <tbody>\n",
       "    <tr>\n",
       "      <th>0</th>\n",
       "      <td>0.0</td>\n",
       "      <td>2083.76</td>\n",
       "      <td>2058.05</td>\n",
       "      <td>2061.21</td>\n",
       "      <td>2082.99</td>\n",
       "      <td>2158.86</td>\n",
       "      <td>2111.63</td>\n",
       "    </tr>\n",
       "    <tr>\n",
       "      <th>1</th>\n",
       "      <td>1.0</td>\n",
       "      <td>2087.11</td>\n",
       "      <td>2065.00</td>\n",
       "      <td>2065.86</td>\n",
       "      <td>2101.91</td>\n",
       "      <td>2182.45</td>\n",
       "      <td>2105.45</td>\n",
       "    </tr>\n",
       "    <tr>\n",
       "      <th>2</th>\n",
       "      <td>2.0</td>\n",
       "      <td>2094.30</td>\n",
       "      <td>2078.51</td>\n",
       "      <td>2076.19</td>\n",
       "      <td>2091.06</td>\n",
       "      <td>2197.66</td>\n",
       "      <td>2109.72</td>\n",
       "    </tr>\n",
       "    <tr>\n",
       "      <th>3</th>\n",
       "      <td>3.0</td>\n",
       "      <td>2107.22</td>\n",
       "      <td>2073.89</td>\n",
       "      <td>2036.24</td>\n",
       "      <td>2094.94</td>\n",
       "      <td>2204.13</td>\n",
       "      <td>2120.87</td>\n",
       "    </tr>\n",
       "    <tr>\n",
       "      <th>4</th>\n",
       "      <td>4.0</td>\n",
       "      <td>2103.95</td>\n",
       "      <td>2077.64</td>\n",
       "      <td>2051.03</td>\n",
       "      <td>2103.04</td>\n",
       "      <td>2199.19</td>\n",
       "      <td>2089.72</td>\n",
       "    </tr>\n",
       "  </tbody>\n",
       "</table>\n",
       "</div>"
      ],
      "text/plain": [
       "   Index  8 Backcandles  15 Backcandles  30 Backcandles  60 Backcandles  \\\n",
       "0    0.0        2083.76         2058.05         2061.21         2082.99   \n",
       "1    1.0        2087.11         2065.00         2065.86         2101.91   \n",
       "2    2.0        2094.30         2078.51         2076.19         2091.06   \n",
       "3    3.0        2107.22         2073.89         2036.24         2094.94   \n",
       "4    4.0        2103.95         2077.64         2051.03         2103.04   \n",
       "\n",
       "   180 Backcandles  Actual Price  \n",
       "0          2158.86       2111.63  \n",
       "1          2182.45       2105.45  \n",
       "2          2197.66       2109.72  \n",
       "3          2204.13       2120.87  \n",
       "4          2199.19       2089.72  "
      ]
     },
     "execution_count": 53,
     "metadata": {},
     "output_type": "execute_result"
    }
   ],
   "source": [
    "\n",
    "dataframe120 = pd.read_csv('120.csv')\n",
    "dataframe120 = dataframe120.replace(',', '', regex=True)\n",
    "dataframe120 = dataframe120.replace(']', '', regex=True)\n",
    "dataframe120= dataframe120.astype(float)\n",
    "dataframe120.head()\n"
   ]
  },
  {
   "cell_type": "code",
   "execution_count": 54,
   "metadata": {},
   "outputs": [
    {
     "name": "stdout",
     "output_type": "stream",
     "text": [
      "0.9549117609481568\n"
     ]
    }
   ],
   "source": [
    "correlation = dataframe120['8 Backcandles'].corr(dataframe120['Actual Price'])\n",
    "print(correlation)"
   ]
  },
  {
   "cell_type": "code",
   "execution_count": 55,
   "metadata": {},
   "outputs": [
    {
     "name": "stdout",
     "output_type": "stream",
     "text": [
      "0.9697442549920245\n"
     ]
    }
   ],
   "source": [
    "correlation = dataframe120['15 Backcandles'].corr(dataframe120['Actual Price'])\n",
    "print(correlation)"
   ]
  },
  {
   "cell_type": "code",
   "execution_count": 56,
   "metadata": {},
   "outputs": [
    {
     "name": "stdout",
     "output_type": "stream",
     "text": [
      "0.9902928133818275\n"
     ]
    }
   ],
   "source": [
    "correlation = dataframe120['30 Backcandles'].corr(dataframe120['Actual Price'])\n",
    "print(correlation)"
   ]
  },
  {
   "cell_type": "code",
   "execution_count": 57,
   "metadata": {},
   "outputs": [
    {
     "name": "stdout",
     "output_type": "stream",
     "text": [
      "0.677337322254756\n"
     ]
    }
   ],
   "source": [
    "correlation = dataframe120['60 Backcandles'].corr(dataframe120['Actual Price'])\n",
    "print(correlation)"
   ]
  },
  {
   "cell_type": "code",
   "execution_count": 58,
   "metadata": {},
   "outputs": [
    {
     "name": "stdout",
     "output_type": "stream",
     "text": [
      "-0.3723203480640944\n"
     ]
    }
   ],
   "source": [
    "correlation = dataframe120['180 Backcandles'].corr(dataframe120['Actual Price'])\n",
    "print(correlation)"
   ]
  },
  {
   "cell_type": "code",
   "execution_count": 60,
   "metadata": {},
   "outputs": [
    {
     "data": {
      "text/html": [
       "<div>\n",
       "<style scoped>\n",
       "    .dataframe tbody tr th:only-of-type {\n",
       "        vertical-align: middle;\n",
       "    }\n",
       "\n",
       "    .dataframe tbody tr th {\n",
       "        vertical-align: top;\n",
       "    }\n",
       "\n",
       "    .dataframe thead th {\n",
       "        text-align: right;\n",
       "    }\n",
       "</style>\n",
       "<table border=\"1\" class=\"dataframe\">\n",
       "  <thead>\n",
       "    <tr style=\"text-align: right;\">\n",
       "      <th></th>\n",
       "      <th>Index</th>\n",
       "      <th>8 Backcandles</th>\n",
       "      <th>15 Backcandles</th>\n",
       "      <th>30 Backcandles</th>\n",
       "      <th>60 Backcandles</th>\n",
       "      <th>180 Backcandles</th>\n",
       "      <th>Actual Price</th>\n",
       "    </tr>\n",
       "  </thead>\n",
       "  <tbody>\n",
       "    <tr>\n",
       "      <th>0</th>\n",
       "      <td>0.0</td>\n",
       "      <td>2064.00</td>\n",
       "      <td>2080.61</td>\n",
       "      <td>2089.48</td>\n",
       "      <td>2101.61</td>\n",
       "      <td>2158.68</td>\n",
       "      <td>2111.63</td>\n",
       "    </tr>\n",
       "    <tr>\n",
       "      <th>1</th>\n",
       "      <td>1.0</td>\n",
       "      <td>2068.80</td>\n",
       "      <td>2087.86</td>\n",
       "      <td>2093.93</td>\n",
       "      <td>2117.32</td>\n",
       "      <td>2170.75</td>\n",
       "      <td>2105.45</td>\n",
       "    </tr>\n",
       "    <tr>\n",
       "      <th>2</th>\n",
       "      <td>2.0</td>\n",
       "      <td>2075.79</td>\n",
       "      <td>2101.02</td>\n",
       "      <td>2104.01</td>\n",
       "      <td>2103.40</td>\n",
       "      <td>2175.54</td>\n",
       "      <td>2109.72</td>\n",
       "    </tr>\n",
       "    <tr>\n",
       "      <th>3</th>\n",
       "      <td>3.0</td>\n",
       "      <td>2088.76</td>\n",
       "      <td>2097.01</td>\n",
       "      <td>2061.43</td>\n",
       "      <td>2103.27</td>\n",
       "      <td>2173.70</td>\n",
       "      <td>2120.87</td>\n",
       "    </tr>\n",
       "    <tr>\n",
       "      <th>4</th>\n",
       "      <td>4.0</td>\n",
       "      <td>2084.02</td>\n",
       "      <td>2101.13</td>\n",
       "      <td>2075.39</td>\n",
       "      <td>2108.97</td>\n",
       "      <td>2161.72</td>\n",
       "      <td>2089.72</td>\n",
       "    </tr>\n",
       "  </tbody>\n",
       "</table>\n",
       "</div>"
      ],
      "text/plain": [
       "   Index  8 Backcandles  15 Backcandles  30 Backcandles  60 Backcandles  \\\n",
       "0    0.0        2064.00         2080.61         2089.48         2101.61   \n",
       "1    1.0        2068.80         2087.86         2093.93         2117.32   \n",
       "2    2.0        2075.79         2101.02         2104.01         2103.40   \n",
       "3    3.0        2088.76         2097.01         2061.43         2103.27   \n",
       "4    4.0        2084.02         2101.13         2075.39         2108.97   \n",
       "\n",
       "   180 Backcandles  Actual Price  \n",
       "0          2158.68       2111.63  \n",
       "1          2170.75       2105.45  \n",
       "2          2175.54       2109.72  \n",
       "3          2173.70       2120.87  \n",
       "4          2161.72       2089.72  "
      ]
     },
     "execution_count": 60,
     "metadata": {},
     "output_type": "execute_result"
    }
   ],
   "source": [
    "dataframe240 = pd.read_csv('240.csv')\n",
    "dataframe240 = dataframe240.replace(',', '', regex=True)\n",
    "dataframe240 = dataframe240.replace(']', '', regex=True)\n",
    "dataframe240= dataframe240.astype(float)\n",
    "dataframe240.head()"
   ]
  },
  {
   "cell_type": "code",
   "execution_count": 61,
   "metadata": {},
   "outputs": [
    {
     "name": "stdout",
     "output_type": "stream",
     "text": [
      "0.9567976251444101\n"
     ]
    }
   ],
   "source": [
    "correlation = dataframe240['8 Backcandles'].corr(dataframe240['Actual Price'])\n",
    "print(correlation)"
   ]
  },
  {
   "cell_type": "code",
   "execution_count": 62,
   "metadata": {},
   "outputs": [
    {
     "name": "stdout",
     "output_type": "stream",
     "text": [
      "0.969126516749293\n"
     ]
    }
   ],
   "source": [
    "correlation = dataframe240['15 Backcandles'].corr(dataframe240['Actual Price'])\n",
    "print(correlation)"
   ]
  },
  {
   "cell_type": "code",
   "execution_count": 63,
   "metadata": {},
   "outputs": [
    {
     "name": "stdout",
     "output_type": "stream",
     "text": [
      "0.9897566236093686\n"
     ]
    }
   ],
   "source": [
    "correlation = dataframe240['30 Backcandles'].corr(dataframe240['Actual Price'])\n",
    "print(correlation)"
   ]
  },
  {
   "cell_type": "code",
   "execution_count": 64,
   "metadata": {},
   "outputs": [
    {
     "name": "stdout",
     "output_type": "stream",
     "text": [
      "0.8552180885212634\n"
     ]
    }
   ],
   "source": [
    "correlation = dataframe240['60 Backcandles'].corr(dataframe240['Actual Price'])\n",
    "print(correlation)"
   ]
  },
  {
   "cell_type": "code",
   "execution_count": 65,
   "metadata": {},
   "outputs": [
    {
     "name": "stdout",
     "output_type": "stream",
     "text": [
      "0.6488167585456206\n"
     ]
    }
   ],
   "source": [
    "correlation = dataframe240['180 Backcandles'].corr(dataframe240['Actual Price'])\n",
    "print(correlation)"
   ]
  },
  {
   "cell_type": "code",
   "execution_count": 71,
   "metadata": {},
   "outputs": [
    {
     "name": "stdout",
     "output_type": "stream",
     "text": [
      "0.950970789204901\n",
      "0.8348973781059148\n",
      "0.9653903417083581\n",
      "0.799500424766782\n",
      "0.5507923455149325\n"
     ]
    }
   ],
   "source": [
    "\n",
    "correlation = dataframe15['8 Backcandles'].corr(dataframe15['Actual Price'])\n",
    "print(correlation)\n",
    "correlation = dataframe15['15 Backcandles'].corr(dataframe15['Actual Price'])\n",
    "print(correlation)\n",
    "correlation = dataframe15['30 Backcandles'].corr(dataframe15['Actual Price'])\n",
    "print(correlation)\n",
    "correlation = dataframe15['60 Backcandles'].corr(dataframe15['Actual Price'])\n",
    "print(correlation)\n",
    "correlation = dataframe15['180 Backcandles'].corr(dataframe15['Actual Price'])\n",
    "print(correlation)\n"
   ]
  },
  {
   "cell_type": "code",
   "execution_count": 72,
   "metadata": {},
   "outputs": [
    {
     "name": "stdout",
     "output_type": "stream",
     "text": [
      "0.9578690452389753\n",
      "0.9707196980581306\n",
      "0.9879445757572481\n",
      "0.759361702842895\n",
      "0.4657636206689555\n"
     ]
    }
   ],
   "source": [
    "correlation = dataframe30['8 Backcandles'].corr(dataframe30['Actual Price'])\n",
    "print(correlation)\n",
    "correlation = dataframe30['15 Backcandles'].corr(dataframe30['Actual Price'])\n",
    "print(correlation)\n",
    "correlation = dataframe30['30 Backcandles'].corr(dataframe30['Actual Price'])\n",
    "print(correlation)\n",
    "correlation = dataframe30['60 Backcandles'].corr(dataframe30['Actual Price'])\n",
    "print(correlation)\n",
    "correlation = dataframe30['180 Backcandles'].corr(dataframe30['Actual Price'])\n",
    "print(correlation)\n"
   ]
  },
  {
   "cell_type": "code",
   "execution_count": 73,
   "metadata": {},
   "outputs": [
    {
     "name": "stdout",
     "output_type": "stream",
     "text": [
      "0.9568527674275412\n",
      "0.9692345793270652\n",
      "0.9890372678346414\n",
      "0.4831194664706242\n",
      "0.4033167564900794\n"
     ]
    }
   ],
   "source": [
    "correlation = dataframe60['8 Backcandles'].corr(dataframe60['Actual Price'])\n",
    "print(correlation)\n",
    "correlation = dataframe60['15 Backcandles'].corr(dataframe60['Actual Price'])\n",
    "print(correlation)\n",
    "correlation = dataframe60['30 Backcandles'].corr(dataframe60['Actual Price'])\n",
    "print(correlation)\n",
    "correlation = dataframe60['60 Backcandles'].corr(dataframe60['Actual Price'])\n",
    "print(correlation)\n",
    "correlation = dataframe60['180 Backcandles'].corr(dataframe60['Actual Price'])\n",
    "print(correlation)"
   ]
  },
  {
   "cell_type": "code",
   "execution_count": 74,
   "metadata": {},
   "outputs": [
    {
     "name": "stdout",
     "output_type": "stream",
     "text": [
      "0.9549117609481568\n",
      "0.9697442549920245\n",
      "0.9902928133818275\n",
      "0.677337322254756\n",
      "-0.3723203480640944\n"
     ]
    }
   ],
   "source": [
    "correlation = dataframe120['8 Backcandles'].corr(dataframe120['Actual Price'])\n",
    "print(correlation)\n",
    "correlation = dataframe120['15 Backcandles'].corr(dataframe120['Actual Price'])\n",
    "print(correlation)\n",
    "correlation = dataframe120['30 Backcandles'].corr(dataframe120['Actual Price'])\n",
    "print(correlation)\n",
    "correlation = dataframe120['60 Backcandles'].corr(dataframe120['Actual Price'])\n",
    "print(correlation)\n",
    "correlation = dataframe120['180 Backcandles'].corr(dataframe120['Actual Price'])\n",
    "print(correlation)"
   ]
  },
  {
   "cell_type": "code",
   "execution_count": 75,
   "metadata": {},
   "outputs": [
    {
     "name": "stdout",
     "output_type": "stream",
     "text": [
      "0.9567976251444101\n",
      "0.969126516749293\n",
      "0.9897566236093686\n",
      "0.8552180885212634\n",
      "0.6488167585456206\n"
     ]
    }
   ],
   "source": [
    "correlation = dataframe240['8 Backcandles'].corr(dataframe240['Actual Price'])\n",
    "print(correlation)\n",
    "correlation = dataframe240['15 Backcandles'].corr(dataframe240['Actual Price'])\n",
    "print(correlation)\n",
    "correlation = dataframe240['30 Backcandles'].corr(dataframe240['Actual Price'])\n",
    "print(correlation)\n",
    "correlation = dataframe240['60 Backcandles'].corr(dataframe240['Actual Price'])\n",
    "print(correlation)\n",
    "correlation = dataframe240['180 Backcandles'].corr(dataframe240['Actual Price'])\n",
    "print(correlation)"
   ]
  }
 ],
 "metadata": {
  "kernelspec": {
   "display_name": "Python 3",
   "language": "python",
   "name": "python3"
  },
  "language_info": {
   "codemirror_mode": {
    "name": "ipython",
    "version": 3
   },
   "file_extension": ".py",
   "mimetype": "text/x-python",
   "name": "python",
   "nbconvert_exporter": "python",
   "pygments_lexer": "ipython3",
   "version": "3.7.4 (tags/v3.7.4:e09359112e, Jul  8 2019, 20:34:20) [MSC v.1916 64 bit (AMD64)]"
  },
  "orig_nbformat": 4,
  "vscode": {
   "interpreter": {
    "hash": "4cb63a88241a79bc8664c500920241f3a8f70d2dd878e3fd05e50603855e5094"
   }
  }
 },
 "nbformat": 4,
 "nbformat_minor": 2
}
